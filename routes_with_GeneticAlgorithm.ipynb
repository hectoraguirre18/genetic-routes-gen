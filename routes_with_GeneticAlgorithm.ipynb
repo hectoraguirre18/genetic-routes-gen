{
 "cells": [
  {
   "cell_type": "markdown",
   "metadata": {},
   "source": [
    "# Routes with Genetic Algorithm\n",
    "\n",
    "### Created by:\n",
    " - Héctor Aguirre\n",
    " - Carlos García"
   ]
  },
  {
   "cell_type": "code",
   "execution_count": null,
   "metadata": {},
   "outputs": [],
   "source": [
    "from functools import cmp_to_key\n",
    "from math import floor\n",
    "import numpy as np\n",
    "from geneticalgorithm import geneticalgorithm as ga"
   ]
  },
  {
   "cell_type": "code",
   "execution_count": null,
   "metadata": {},
   "outputs": [],
   "source": [
    "def compare(X1, X2):\n",
    "    if X1[0] < X2[0]:\n",
    "        return -1\n",
    "    elif X1[0] > X2[0]:\n",
    "        return 1\n",
    "    elif X1[1] < X2[1]:\n",
    "        return -1\n",
    "    elif X1[1] > X2[1]:\n",
    "        return 1\n",
    "    else:\n",
    "        return 0\n",
    "\n",
    "def dist(p1, p2):\n",
    "    return np.linalg.norm(np.array(p1) - np.array(p2))"
   ]
  },
  {
   "cell_type": "markdown",
   "metadata": {},
   "source": [
    "### The function runGenetic gets 2 parameters:\n",
    "- Beginning\n",
    "    - Its a point in a 3D plane where all the routes will start\n",
    "    - Its an array with 3 elements [x, y, 0] where those are the coords X,Y,Z \n",
    "\n",
    "- Destination\n",
    "    - Its the array of n points (array with 3 elements just like beginning).\n",
    "    - An example: [[x, y, 0], [x, y, 0], [x, y, 0], [x, y, 0]]"
   ]
  },
  {
   "cell_type": "code",
   "execution_count": null,
   "metadata": {},
   "outputs": [],
   "source": [
    "#count = 0\n",
    "def runGenetic(beginning, destinations):\n",
    "    dim=len(destinations)\n",
    "\n",
    "    def f(X):\n",
    "        global count\n",
    "        #count +=1\n",
    "        carCount = X[0]\n",
    "        exes = []\n",
    "        penalty = 10000000\n",
    "        maxCarIndex = -1\n",
    "        for i in range(1, len(X), 2):\n",
    "            if X[i] >= carCount:\n",
    "                return penalty\n",
    "            maxCarIndex = max(maxCarIndex, X[i])\n",
    "            exes.append([X[i], X[i+1]])\n",
    "        \n",
    "        if carCount != maxCarIndex+1:\n",
    "            return penalty\n",
    "        exes.sort(key=cmp_to_key(compare))\n",
    "\n",
    "        if exes[0][0] != 0 or exes[0][1] != 0:\n",
    "            return penalty\n",
    "        \n",
    "        for i in range(len(exes)-1):\n",
    "            if not(exes[i+1][0] == exes[i][0] and exes[i+1][1] == exes[i][1]+1) and not(exes[i+1][0] == exes[i][0]+1 and exes[i+1][1] == 0):\n",
    "                return penalty\n",
    "\n",
    "        accum = 0\n",
    "        for i in range(1, len(X), 2):\n",
    "            destIndex = floor((i-1)/2)\n",
    "            carIndex = X[i]\n",
    "            orderInCar = X[i+1]\n",
    "            if orderInCar == 0:\n",
    "                accum += dist(destinations[destIndex], beginning)\n",
    "            else:\n",
    "                for j in range(1, len(X), 2):\n",
    "                    if X[j] == carIndex and X[j+1] == orderInCar-1:\n",
    "                        accum += dist(destinations[destIndex], destinations[floor((j-1)/2)])\n",
    "        return accum\n",
    "\n",
    "    varbound=np.array([[1, dim]] + [[0, dim-1]]*(dim*2))\n",
    "\n",
    "    model=ga(function=f,dimension=dim*2+1,variable_type='int',variable_boundaries=varbound, convergence_curve=False)\n",
    "\n",
    "    model.run()\n",
    "    #print('count ', count)\n",
    "    return model.output_dict['variable']\n"
   ]
  },
  {
   "cell_type": "markdown",
   "metadata": {},
   "source": [
    "## Model shape\n",
    "\n",
    "### First element: \n",
    "#### - number of cars we will use\n",
    "### Every following pair: \n",
    "#### - First element: Car index that will have that destination \n",
    "#### - Second element: Car order in the route"
   ]
  },
  {
   "cell_type": "code",
   "execution_count": null,
   "metadata": {},
   "outputs": [],
   "source": [
    "from tkinter import *\n",
    "from math import floor\n",
    "from PIL import Image\n",
    "from PIL import ImageTk\n",
    "import random"
   ]
  },
  {
   "cell_type": "markdown",
   "metadata": {},
   "source": [
    "# GUI made with Tkinter library\n",
    "\n",
    "Initializate the app like window size, point size, etc.\n"
   ]
  },
  {
   "cell_type": "code",
   "execution_count": null,
   "metadata": {},
   "outputs": [],
   "source": [
    "canvas_width = 800\n",
    "canvas_height = 800\n",
    "point_size = 5\n",
    "beginning_point_size = 7\n",
    "\n",
    "destinations = []\n",
    "\n",
    "button = None\n",
    "solved = False\n"
   ]
  },
  {
   "cell_type": "markdown",
   "metadata": {},
   "source": [
    "## Functions\n",
    "\n",
    "### Paint\n",
    "This function decides whether to paint a clicked point as the beggining point or as a destination point.\n",
    "\n",
    "### addBeginning\n",
    "This function paints the beggining point with a purple dot on the location of the click.\n",
    "\n",
    "### addDestination\n",
    "This function paints a new destination point with a black dot on the location of the click.\n",
    "\n",
    "### connectDestinations\n",
    "This function draws a line between points of the same generated route\n",
    "\n",
    "### generate\n",
    "This function runs the Genetic Algorithm (runGenetic function) and saves the best result  \n"
   ]
  },
  {
   "cell_type": "code",
   "execution_count": null,
   "metadata": {},
   "outputs": [],
   "source": [
    "def paint(event):\n",
    "    if not(solved):\n",
    "        if 'beginning' in globals():\n",
    "            addDestination(event)\n",
    "        else:\n",
    "            addBeginning(event)\n",
    "    \n",
    "\n",
    "def addBeginning(event):\n",
    "    global beginning\n",
    "    beginning = [event.x, event.y, 0]\n",
    "    purple = \"#AA336A\"\n",
    "    x1, y1 = (event.x - beginning_point_size), (event.y - beginning_point_size)\n",
    "    x2, y2 = (event.x + beginning_point_size), (event.y + beginning_point_size)\n",
    "    w.create_oval(x1, y1, x2, y2, fill=purple, outline='')\n",
    "\n",
    "def addDestination(event):\n",
    "    destinations.append([event.x, event.y, 0])\n",
    "    black = \"#000000\"\n",
    "    x1, y1 = (event.x - point_size), (event.y - point_size)\n",
    "    x2, y2 = (event.x + point_size), (event.y + point_size)\n",
    "    w.create_oval(x1, y1, x2, y2, fill=black, outline='')\n",
    "\n",
    "def connectDestinations(dest1, dest2, car, carColors):\n",
    "    if not (car in carColors):\n",
    "        r = lambda: random.randint(0,255)\n",
    "        carColors[car] = '#%02X%02X%02X' % (r(),r(),r())\n",
    "    w.create_line(dest1[0], dest1[1], dest2[0], dest2[1], width=3, fill=carColors[car] )\n",
    "\n",
    "def generate():\n",
    "    carColors = {}\n",
    "    solution = runGenetic(beginning, destinations)\n",
    "    print(\"------------------------\",solution)\n",
    "    for i in range(1, len(solution), 2):\n",
    "        destIndex1 = floor((i-1)/2)\n",
    "        if solution[i+1] == 0:\n",
    "            #trace line from destinations[destIndex1] to beginning\n",
    "            connectDestinations(destinations[destIndex1], beginning, solution[i], carColors)\n",
    "        else:\n",
    "            for j in range(1, len(solution), 2):\n",
    "                destIndex2 = floor((j-1)/2)\n",
    "                if solution[i] == solution[j] and solution[i+1] -1 == solution[j+1]:\n",
    "                    #trace line between destinations[destIndex1] and destinations[destIndex2]\n",
    "                    connectDestinations(destinations[destIndex1], destinations[destIndex2], solution[i], carColors)\n",
    "    if button:\n",
    "        button['state'] = 'disabled'\n",
    "    global solved\n",
    "    solved = True"
   ]
  },
  {
   "cell_type": "markdown",
   "metadata": {},
   "source": [
    "### Instance of Tkinter GUI"
   ]
  },
  {
   "cell_type": "code",
   "execution_count": null,
   "metadata": {},
   "outputs": [],
   "source": [
    "master = Tk()\n",
    "master.title(\"Points\")\n",
    "w = Canvas(master,\n",
    "           width=canvas_width,\n",
    "           height=canvas_height)\n",
    "w.pack(expand=YES, fill=BOTH)\n",
    "w.bind(\"<Button-1>\", paint)\n",
    "\n",
    "img = Image.open(\"mapa.png\")\n",
    "img = img.resize((canvas_width,canvas_height), Image.ANTIALIAS)\n",
    "photoImg =  ImageTk.PhotoImage(img)\n",
    "image = w.create_image(canvas_width, 0, anchor=NE, image=photoImg)\n",
    "button = Button(master, text='Generate routes', width=25, command=generate)\n",
    "button.pack()\n",
    "mainloop()"
   ]
  }
 ],
 "metadata": {
  "interpreter": {
   "hash": "321a562c32c1ef0f4d1bce6724f96cbf5562b75820608d2935414fe72bdf9c83"
  },
  "kernelspec": {
   "display_name": "Python 3.9.2 64-bit",
   "language": "python",
   "name": "python3"
  },
  "language_info": {
   "codemirror_mode": {
    "name": "ipython",
    "version": 3
   },
   "file_extension": ".py",
   "mimetype": "text/x-python",
   "name": "python",
   "nbconvert_exporter": "python",
   "pygments_lexer": "ipython3",
   "version": "3.9.2"
  },
  "orig_nbformat": 4
 },
 "nbformat": 4,
 "nbformat_minor": 2
}
